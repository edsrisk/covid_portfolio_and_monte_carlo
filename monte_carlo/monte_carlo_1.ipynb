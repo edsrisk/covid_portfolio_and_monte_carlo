{
 "cells": [
  {
   "cell_type": "markdown",
   "metadata": {},
   "source": [
    "# Single Asset Monte Carlo Simulation, using S&P 500 as an example"
   ]
  },
  {
   "cell_type": "code",
   "execution_count": 1,
   "metadata": {},
   "outputs": [],
   "source": [
    "# Import libraries and dependencies\n",
    "import pandas as pd\n",
    "from pathlib import Path\n",
    "import numpy as np\n",
    "import datetime as dt\n",
    "%matplotlib inline"
   ]
  },
  {
   "cell_type": "markdown",
   "metadata": {},
   "source": [
    "### Read S&P 500 Price File"
   ]
  },
  {
   "cell_type": "code",
   "execution_count": 2,
   "metadata": {},
   "outputs": [],
   "source": [
    "# Read file and index on date\n",
    "sp500_df = pd.read_csv(Path('HistoricalQuotes_gspc.csv'), index_col=0, infer_datetime_format=True, parse_dates=True)"
   ]
  },
  {
   "cell_type": "code",
   "execution_count": 3,
   "metadata": {},
   "outputs": [
    {
     "data": {
      "text/html": [
       "<div>\n",
       "<style scoped>\n",
       "    .dataframe tbody tr th:only-of-type {\n",
       "        vertical-align: middle;\n",
       "    }\n",
       "\n",
       "    .dataframe tbody tr th {\n",
       "        vertical-align: top;\n",
       "    }\n",
       "\n",
       "    .dataframe thead th {\n",
       "        text-align: right;\n",
       "    }\n",
       "</style>\n",
       "<table border=\"1\" class=\"dataframe\">\n",
       "  <thead>\n",
       "    <tr style=\"text-align: right;\">\n",
       "      <th></th>\n",
       "      <th>Open</th>\n",
       "      <th>High</th>\n",
       "      <th>Low</th>\n",
       "      <th>Close</th>\n",
       "      <th>Adj Close</th>\n",
       "      <th>Volume</th>\n",
       "    </tr>\n",
       "    <tr>\n",
       "      <th>Date</th>\n",
       "      <th></th>\n",
       "      <th></th>\n",
       "      <th></th>\n",
       "      <th></th>\n",
       "      <th></th>\n",
       "      <th></th>\n",
       "    </tr>\n",
       "  </thead>\n",
       "  <tbody>\n",
       "    <tr>\n",
       "      <th>2019-12-20</th>\n",
       "      <td>3223.330078</td>\n",
       "      <td>3225.649902</td>\n",
       "      <td>3216.030029</td>\n",
       "      <td>3221.219971</td>\n",
       "      <td>3221.219971</td>\n",
       "      <td>6454270000</td>\n",
       "    </tr>\n",
       "    <tr>\n",
       "      <th>2019-12-23</th>\n",
       "      <td>3226.050049</td>\n",
       "      <td>3227.780029</td>\n",
       "      <td>3222.300049</td>\n",
       "      <td>3224.010010</td>\n",
       "      <td>3224.010010</td>\n",
       "      <td>3060610000</td>\n",
       "    </tr>\n",
       "    <tr>\n",
       "      <th>2019-12-24</th>\n",
       "      <td>3225.449951</td>\n",
       "      <td>3226.429932</td>\n",
       "      <td>3220.510010</td>\n",
       "      <td>3223.379883</td>\n",
       "      <td>3223.379883</td>\n",
       "      <td>1296540000</td>\n",
       "    </tr>\n",
       "    <tr>\n",
       "      <th>2019-12-26</th>\n",
       "      <td>3227.199951</td>\n",
       "      <td>3240.080078</td>\n",
       "      <td>3227.199951</td>\n",
       "      <td>3239.909912</td>\n",
       "      <td>3239.909912</td>\n",
       "      <td>2160680000</td>\n",
       "    </tr>\n",
       "    <tr>\n",
       "      <th>2019-12-27</th>\n",
       "      <td>3247.229980</td>\n",
       "      <td>3247.929932</td>\n",
       "      <td>3234.370117</td>\n",
       "      <td>3240.020020</td>\n",
       "      <td>3240.020020</td>\n",
       "      <td>2428670000</td>\n",
       "    </tr>\n",
       "  </tbody>\n",
       "</table>\n",
       "</div>"
      ],
      "text/plain": [
       "                   Open         High          Low        Close    Adj Close  \\\n",
       "Date                                                                          \n",
       "2019-12-20  3223.330078  3225.649902  3216.030029  3221.219971  3221.219971   \n",
       "2019-12-23  3226.050049  3227.780029  3222.300049  3224.010010  3224.010010   \n",
       "2019-12-24  3225.449951  3226.429932  3220.510010  3223.379883  3223.379883   \n",
       "2019-12-26  3227.199951  3240.080078  3227.199951  3239.909912  3239.909912   \n",
       "2019-12-27  3247.229980  3247.929932  3234.370117  3240.020020  3240.020020   \n",
       "\n",
       "                Volume  \n",
       "Date                    \n",
       "2019-12-20  6454270000  \n",
       "2019-12-23  3060610000  \n",
       "2019-12-24  1296540000  \n",
       "2019-12-26  2160680000  \n",
       "2019-12-27  2428670000  "
      ]
     },
     "execution_count": 3,
     "metadata": {},
     "output_type": "execute_result"
    }
   ],
   "source": [
    "sp500_df.head()"
   ]
  },
  {
   "cell_type": "code",
   "execution_count": 4,
   "metadata": {},
   "outputs": [
    {
     "data": {
      "text/html": [
       "<div>\n",
       "<style scoped>\n",
       "    .dataframe tbody tr th:only-of-type {\n",
       "        vertical-align: middle;\n",
       "    }\n",
       "\n",
       "    .dataframe tbody tr th {\n",
       "        vertical-align: top;\n",
       "    }\n",
       "\n",
       "    .dataframe thead th {\n",
       "        text-align: right;\n",
       "    }\n",
       "</style>\n",
       "<table border=\"1\" class=\"dataframe\">\n",
       "  <thead>\n",
       "    <tr style=\"text-align: right;\">\n",
       "      <th></th>\n",
       "      <th>Close</th>\n",
       "    </tr>\n",
       "    <tr>\n",
       "      <th>Date</th>\n",
       "      <th></th>\n",
       "    </tr>\n",
       "  </thead>\n",
       "  <tbody>\n",
       "    <tr>\n",
       "      <th>2019-12-20</th>\n",
       "      <td>3221.219971</td>\n",
       "    </tr>\n",
       "    <tr>\n",
       "      <th>2019-12-23</th>\n",
       "      <td>3224.010010</td>\n",
       "    </tr>\n",
       "    <tr>\n",
       "      <th>2019-12-24</th>\n",
       "      <td>3223.379883</td>\n",
       "    </tr>\n",
       "    <tr>\n",
       "      <th>2019-12-26</th>\n",
       "      <td>3239.909912</td>\n",
       "    </tr>\n",
       "    <tr>\n",
       "      <th>2019-12-27</th>\n",
       "      <td>3240.020020</td>\n",
       "    </tr>\n",
       "  </tbody>\n",
       "</table>\n",
       "</div>"
      ],
      "text/plain": [
       "                  Close\n",
       "Date                   \n",
       "2019-12-20  3221.219971\n",
       "2019-12-23  3224.010010\n",
       "2019-12-24  3223.379883\n",
       "2019-12-26  3239.909912\n",
       "2019-12-27  3240.020020"
      ]
     },
     "execution_count": 4,
     "metadata": {},
     "output_type": "execute_result"
    }
   ],
   "source": [
    "# Drop irrelevant columns, keep close only\n",
    "sp500_df = sp500_df[['Close']]\n",
    "# Second option\n",
    "# sp500_df.drop(columns=['Open', 'High', 'Low', 'Volume', 'Adj Close'], inplace=True)\n",
    "sp500_df.head()"
   ]
  },
  {
   "cell_type": "code",
   "execution_count": 5,
   "metadata": {},
   "outputs": [
    {
     "data": {
      "text/html": [
       "<div>\n",
       "<style scoped>\n",
       "    .dataframe tbody tr th:only-of-type {\n",
       "        vertical-align: middle;\n",
       "    }\n",
       "\n",
       "    .dataframe tbody tr th {\n",
       "        vertical-align: top;\n",
       "    }\n",
       "\n",
       "    .dataframe thead th {\n",
       "        text-align: right;\n",
       "    }\n",
       "</style>\n",
       "<table border=\"1\" class=\"dataframe\">\n",
       "  <thead>\n",
       "    <tr style=\"text-align: right;\">\n",
       "      <th></th>\n",
       "      <th>Close</th>\n",
       "    </tr>\n",
       "    <tr>\n",
       "      <th>Date</th>\n",
       "      <th></th>\n",
       "    </tr>\n",
       "  </thead>\n",
       "  <tbody>\n",
       "    <tr>\n",
       "      <th>2020-12-14</th>\n",
       "      <td>3647.489990</td>\n",
       "    </tr>\n",
       "    <tr>\n",
       "      <th>2020-12-15</th>\n",
       "      <td>3694.620117</td>\n",
       "    </tr>\n",
       "    <tr>\n",
       "      <th>2020-12-16</th>\n",
       "      <td>3701.169922</td>\n",
       "    </tr>\n",
       "    <tr>\n",
       "      <th>2020-12-17</th>\n",
       "      <td>3722.479980</td>\n",
       "    </tr>\n",
       "    <tr>\n",
       "      <th>2020-12-18</th>\n",
       "      <td>3709.409912</td>\n",
       "    </tr>\n",
       "  </tbody>\n",
       "</table>\n",
       "</div>"
      ],
      "text/plain": [
       "                  Close\n",
       "Date                   \n",
       "2020-12-14  3647.489990\n",
       "2020-12-15  3694.620117\n",
       "2020-12-16  3701.169922\n",
       "2020-12-17  3722.479980\n",
       "2020-12-18  3709.409912"
      ]
     },
     "execution_count": 5,
     "metadata": {},
     "output_type": "execute_result"
    }
   ],
   "source": [
    "sp500_df.tail()"
   ]
  },
  {
   "cell_type": "code",
   "execution_count": 6,
   "metadata": {},
   "outputs": [
    {
     "data": {
      "text/html": [
       "<div>\n",
       "<style scoped>\n",
       "    .dataframe tbody tr th:only-of-type {\n",
       "        vertical-align: middle;\n",
       "    }\n",
       "\n",
       "    .dataframe tbody tr th {\n",
       "        vertical-align: top;\n",
       "    }\n",
       "\n",
       "    .dataframe thead th {\n",
       "        text-align: right;\n",
       "    }\n",
       "</style>\n",
       "<table border=\"1\" class=\"dataframe\">\n",
       "  <thead>\n",
       "    <tr style=\"text-align: right;\">\n",
       "      <th></th>\n",
       "      <th>Close</th>\n",
       "    </tr>\n",
       "    <tr>\n",
       "      <th>Date</th>\n",
       "      <th></th>\n",
       "    </tr>\n",
       "  </thead>\n",
       "  <tbody>\n",
       "    <tr>\n",
       "      <th>2019-12-20</th>\n",
       "      <td>NaN</td>\n",
       "    </tr>\n",
       "    <tr>\n",
       "      <th>2019-12-23</th>\n",
       "      <td>0.000866</td>\n",
       "    </tr>\n",
       "    <tr>\n",
       "      <th>2019-12-24</th>\n",
       "      <td>-0.000195</td>\n",
       "    </tr>\n",
       "    <tr>\n",
       "      <th>2019-12-26</th>\n",
       "      <td>0.005128</td>\n",
       "    </tr>\n",
       "    <tr>\n",
       "      <th>2019-12-27</th>\n",
       "      <td>0.000034</td>\n",
       "    </tr>\n",
       "  </tbody>\n",
       "</table>\n",
       "</div>"
      ],
      "text/plain": [
       "               Close\n",
       "Date                \n",
       "2019-12-20       NaN\n",
       "2019-12-23  0.000866\n",
       "2019-12-24 -0.000195\n",
       "2019-12-26  0.005128\n",
       "2019-12-27  0.000034"
      ]
     },
     "execution_count": 6,
     "metadata": {},
     "output_type": "execute_result"
    }
   ],
   "source": [
    "# Calculate daily returns\n",
    "# sp500_df = sp500_df.sort_index(axis=0, ascending=False) - sample code to sort descending\n",
    "sp500_returns = sp500_df.pct_change()\n",
    "sp500_returns.head()"
   ]
  },
  {
   "cell_type": "code",
   "execution_count": 7,
   "metadata": {},
   "outputs": [
    {
     "data": {
      "text/html": [
       "<div>\n",
       "<style scoped>\n",
       "    .dataframe tbody tr th:only-of-type {\n",
       "        vertical-align: middle;\n",
       "    }\n",
       "\n",
       "    .dataframe tbody tr th {\n",
       "        vertical-align: top;\n",
       "    }\n",
       "\n",
       "    .dataframe thead th {\n",
       "        text-align: right;\n",
       "    }\n",
       "</style>\n",
       "<table border=\"1\" class=\"dataframe\">\n",
       "  <thead>\n",
       "    <tr style=\"text-align: right;\">\n",
       "      <th></th>\n",
       "      <th>Close</th>\n",
       "    </tr>\n",
       "    <tr>\n",
       "      <th>Date</th>\n",
       "      <th></th>\n",
       "    </tr>\n",
       "  </thead>\n",
       "  <tbody>\n",
       "    <tr>\n",
       "      <th>2019-12-23</th>\n",
       "      <td>0.000866</td>\n",
       "    </tr>\n",
       "    <tr>\n",
       "      <th>2019-12-24</th>\n",
       "      <td>-0.000195</td>\n",
       "    </tr>\n",
       "    <tr>\n",
       "      <th>2019-12-26</th>\n",
       "      <td>0.005128</td>\n",
       "    </tr>\n",
       "    <tr>\n",
       "      <th>2019-12-27</th>\n",
       "      <td>0.000034</td>\n",
       "    </tr>\n",
       "    <tr>\n",
       "      <th>2019-12-30</th>\n",
       "      <td>-0.005781</td>\n",
       "    </tr>\n",
       "  </tbody>\n",
       "</table>\n",
       "</div>"
      ],
      "text/plain": [
       "               Close\n",
       "Date                \n",
       "2019-12-23  0.000866\n",
       "2019-12-24 -0.000195\n",
       "2019-12-26  0.005128\n",
       "2019-12-27  0.000034\n",
       "2019-12-30 -0.005781"
      ]
     },
     "execution_count": 7,
     "metadata": {},
     "output_type": "execute_result"
    }
   ],
   "source": [
    "# Drop NAs\n",
    "sp500_returns = sp500_returns.dropna()\n",
    "sp500_returns.head()"
   ]
  },
  {
   "cell_type": "code",
   "execution_count": 8,
   "metadata": {},
   "outputs": [
    {
     "data": {
      "text/html": [
       "<div>\n",
       "<style scoped>\n",
       "    .dataframe tbody tr th:only-of-type {\n",
       "        vertical-align: middle;\n",
       "    }\n",
       "\n",
       "    .dataframe tbody tr th {\n",
       "        vertical-align: top;\n",
       "    }\n",
       "\n",
       "    .dataframe thead th {\n",
       "        text-align: right;\n",
       "    }\n",
       "</style>\n",
       "<table border=\"1\" class=\"dataframe\">\n",
       "  <thead>\n",
       "    <tr style=\"text-align: right;\">\n",
       "      <th></th>\n",
       "      <th>Close</th>\n",
       "    </tr>\n",
       "    <tr>\n",
       "      <th>Date</th>\n",
       "      <th></th>\n",
       "    </tr>\n",
       "  </thead>\n",
       "  <tbody>\n",
       "    <tr>\n",
       "      <th>2020-12-14</th>\n",
       "      <td>-0.004359</td>\n",
       "    </tr>\n",
       "    <tr>\n",
       "      <th>2020-12-15</th>\n",
       "      <td>0.012921</td>\n",
       "    </tr>\n",
       "    <tr>\n",
       "      <th>2020-12-16</th>\n",
       "      <td>0.001773</td>\n",
       "    </tr>\n",
       "    <tr>\n",
       "      <th>2020-12-17</th>\n",
       "      <td>0.005758</td>\n",
       "    </tr>\n",
       "    <tr>\n",
       "      <th>2020-12-18</th>\n",
       "      <td>-0.003511</td>\n",
       "    </tr>\n",
       "  </tbody>\n",
       "</table>\n",
       "</div>"
      ],
      "text/plain": [
       "               Close\n",
       "Date                \n",
       "2020-12-14 -0.004359\n",
       "2020-12-15  0.012921\n",
       "2020-12-16  0.001773\n",
       "2020-12-17  0.005758\n",
       "2020-12-18 -0.003511"
      ]
     },
     "execution_count": 8,
     "metadata": {},
     "output_type": "execute_result"
    }
   ],
   "source": [
    "sp500_returns.tail()"
   ]
  },
  {
   "cell_type": "code",
   "execution_count": 9,
   "metadata": {},
   "outputs": [
    {
     "data": {
      "text/plain": [
       "0.0008006280912802364"
      ]
     },
     "execution_count": 9,
     "metadata": {},
     "output_type": "execute_result"
    }
   ],
   "source": [
    "# Average daily return\n",
    "sp500_avg_return = sp500_returns.mean().Close\n",
    "sp500_avg_return"
   ]
  },
  {
   "cell_type": "code",
   "execution_count": 10,
   "metadata": {},
   "outputs": [
    {
     "data": {
      "text/plain": [
       "0.021769329271760198"
      ]
     },
     "execution_count": 10,
     "metadata": {},
     "output_type": "execute_result"
    }
   ],
   "source": [
    "# Standard deviation\n",
    "sp500_returns.Close.std()"
   ]
  },
  {
   "cell_type": "code",
   "execution_count": 11,
   "metadata": {},
   "outputs": [
    {
     "data": {
      "text/html": [
       "<div>\n",
       "<style scoped>\n",
       "    .dataframe tbody tr th:only-of-type {\n",
       "        vertical-align: middle;\n",
       "    }\n",
       "\n",
       "    .dataframe tbody tr th {\n",
       "        vertical-align: top;\n",
       "    }\n",
       "\n",
       "    .dataframe thead th {\n",
       "        text-align: right;\n",
       "    }\n",
       "</style>\n",
       "<table border=\"1\" class=\"dataframe\">\n",
       "  <thead>\n",
       "    <tr style=\"text-align: right;\">\n",
       "      <th></th>\n",
       "      <th>Close</th>\n",
       "    </tr>\n",
       "  </thead>\n",
       "  <tbody>\n",
       "    <tr>\n",
       "      <th>count</th>\n",
       "      <td>251.000000</td>\n",
       "    </tr>\n",
       "    <tr>\n",
       "      <th>mean</th>\n",
       "      <td>0.000801</td>\n",
       "    </tr>\n",
       "    <tr>\n",
       "      <th>std</th>\n",
       "      <td>0.021769</td>\n",
       "    </tr>\n",
       "    <tr>\n",
       "      <th>min</th>\n",
       "      <td>-0.119841</td>\n",
       "    </tr>\n",
       "    <tr>\n",
       "      <th>25%</th>\n",
       "      <td>-0.006249</td>\n",
       "    </tr>\n",
       "    <tr>\n",
       "      <th>50%</th>\n",
       "      <td>0.002397</td>\n",
       "    </tr>\n",
       "    <tr>\n",
       "      <th>75%</th>\n",
       "      <td>0.010049</td>\n",
       "    </tr>\n",
       "    <tr>\n",
       "      <th>max</th>\n",
       "      <td>0.093828</td>\n",
       "    </tr>\n",
       "  </tbody>\n",
       "</table>\n",
       "</div>"
      ],
      "text/plain": [
       "            Close\n",
       "count  251.000000\n",
       "mean     0.000801\n",
       "std      0.021769\n",
       "min     -0.119841\n",
       "25%     -0.006249\n",
       "50%      0.002397\n",
       "75%      0.010049\n",
       "max      0.093828"
      ]
     },
     "execution_count": 11,
     "metadata": {},
     "output_type": "execute_result"
    }
   ],
   "source": [
    "sp500_returns.describe()"
   ]
  },
  {
   "cell_type": "code",
   "execution_count": 12,
   "metadata": {},
   "outputs": [
    {
     "data": {
      "text/plain": [
       "Close    0.021769\n",
       "dtype: float64"
      ]
     },
     "execution_count": 12,
     "metadata": {},
     "output_type": "execute_result"
    }
   ],
   "source": [
    "sp500_stdev = sp500_returns.std()\n",
    "sp500_stdev"
   ]
  },
  {
   "cell_type": "markdown",
   "metadata": {},
   "source": [
    "### Run the Monte Carlo Simulation and commit results to a DataFrame"
   ]
  },
  {
   "cell_type": "code",
   "execution_count": 13,
   "metadata": {},
   "outputs": [],
   "source": [
    "# Set the number of trading days and use the last Close as the first input price as the first input variable into the model\n",
    "num_trading_days = 252\n",
    "sp500_last_close = sp500_df.Close[-1]\n",
    "\n",
    "# Create a list to hold the simulated closing prices, with S&P last close being the first element in the list\n",
    "simulated_sp500_prices = [sp500_last_close]\n",
    "\n",
    "# Simulate the monte carlo return over the number of trading days, i.e. 252\n",
    "for day in range(num_trading_days):\n",
    "    # Monte carlo returns are simulated based on the last close, mean and standard deviation\n",
    "    # Monte carlo uses the last price in the simulated close, applies standard deviation and mean to determine the next price, and so on....\n",
    "    simulated_sp500_daily_close = simulated_sp500_prices[-1] * (1 + np.random.normal(sp500_avg_return, sp500_stdev))\n",
    "    # Append the last price to the simulated close list\n",
    "    x = simulated_sp500_prices.append(simulated_sp500_daily_close)\n",
    "    \n",
    "# Convert the simulated_sp500_close list to a dataframe\n",
    "monte_carlo_sp500_close = pd.DataFrame({\n",
    "    \"S&P 500 Simulated Close\": simulated_sp500_prices\n",
    "})\n",
    "\n",
    "# Display the head\n",
    "\n",
    "#monte_carlo_sp500_close['S&P 500 Simulated Close'] = monte_carlo_sp500_close['S&P 500 Simulated Close'].str[0]"
   ]
  },
  {
   "cell_type": "code",
   "execution_count": 14,
   "metadata": {},
   "outputs": [],
   "source": [
    "#monte_carlo_sp500_close['S&P 500 Simulated Close'].head()"
   ]
  },
  {
   "cell_type": "code",
   "execution_count": 15,
   "metadata": {},
   "outputs": [
    {
     "data": {
      "text/html": [
       "<div>\n",
       "<style scoped>\n",
       "    .dataframe tbody tr th:only-of-type {\n",
       "        vertical-align: middle;\n",
       "    }\n",
       "\n",
       "    .dataframe tbody tr th {\n",
       "        vertical-align: top;\n",
       "    }\n",
       "\n",
       "    .dataframe thead th {\n",
       "        text-align: right;\n",
       "    }\n",
       "</style>\n",
       "<table border=\"1\" class=\"dataframe\">\n",
       "  <thead>\n",
       "    <tr style=\"text-align: right;\">\n",
       "      <th></th>\n",
       "      <th>S&amp;P 500 Simulated Close</th>\n",
       "    </tr>\n",
       "  </thead>\n",
       "  <tbody>\n",
       "    <tr>\n",
       "      <th>0</th>\n",
       "      <td>3709.41</td>\n",
       "    </tr>\n",
       "    <tr>\n",
       "      <th>1</th>\n",
       "      <td>[3734.9387770177973]</td>\n",
       "    </tr>\n",
       "    <tr>\n",
       "      <th>2</th>\n",
       "      <td>[3615.0430253511267]</td>\n",
       "    </tr>\n",
       "    <tr>\n",
       "      <th>3</th>\n",
       "      <td>[3570.393114952266]</td>\n",
       "    </tr>\n",
       "    <tr>\n",
       "      <th>4</th>\n",
       "      <td>[3504.106621035993]</td>\n",
       "    </tr>\n",
       "  </tbody>\n",
       "</table>\n",
       "</div>"
      ],
      "text/plain": [
       "  S&P 500 Simulated Close\n",
       "0                 3709.41\n",
       "1    [3734.9387770177973]\n",
       "2    [3615.0430253511267]\n",
       "3     [3570.393114952266]\n",
       "4     [3504.106621035993]"
      ]
     },
     "execution_count": 15,
     "metadata": {},
     "output_type": "execute_result"
    }
   ],
   "source": [
    "monte_carlo_sp500_close.head() # output needs further cleaning in order to remove the square brackets"
   ]
  },
  {
   "cell_type": "code",
   "execution_count": 16,
   "metadata": {},
   "outputs": [],
   "source": [
    "df1 = monte_carlo_sp500_close.loc[[0]] # [[]] automatically makes df1 a dataframe; "
   ]
  },
  {
   "cell_type": "code",
   "execution_count": 17,
   "metadata": {},
   "outputs": [
    {
     "data": {
      "text/html": [
       "<div>\n",
       "<style scoped>\n",
       "    .dataframe tbody tr th:only-of-type {\n",
       "        vertical-align: middle;\n",
       "    }\n",
       "\n",
       "    .dataframe tbody tr th {\n",
       "        vertical-align: top;\n",
       "    }\n",
       "\n",
       "    .dataframe thead th {\n",
       "        text-align: right;\n",
       "    }\n",
       "</style>\n",
       "<table border=\"1\" class=\"dataframe\">\n",
       "  <thead>\n",
       "    <tr style=\"text-align: right;\">\n",
       "      <th></th>\n",
       "      <th>S&amp;P 500 Simulated Close</th>\n",
       "    </tr>\n",
       "  </thead>\n",
       "  <tbody>\n",
       "    <tr>\n",
       "      <th>0</th>\n",
       "      <td>3709.41</td>\n",
       "    </tr>\n",
       "  </tbody>\n",
       "</table>\n",
       "</div>"
      ],
      "text/plain": [
       "  S&P 500 Simulated Close\n",
       "0                 3709.41"
      ]
     },
     "execution_count": 17,
     "metadata": {},
     "output_type": "execute_result"
    }
   ],
   "source": [
    "df1"
   ]
  },
  {
   "cell_type": "code",
   "execution_count": 18,
   "metadata": {},
   "outputs": [],
   "source": [
    "df2 = monte_carlo_sp500_close.loc[1:,]"
   ]
  },
  {
   "cell_type": "code",
   "execution_count": 19,
   "metadata": {},
   "outputs": [
    {
     "data": {
      "text/html": [
       "<div>\n",
       "<style scoped>\n",
       "    .dataframe tbody tr th:only-of-type {\n",
       "        vertical-align: middle;\n",
       "    }\n",
       "\n",
       "    .dataframe tbody tr th {\n",
       "        vertical-align: top;\n",
       "    }\n",
       "\n",
       "    .dataframe thead th {\n",
       "        text-align: right;\n",
       "    }\n",
       "</style>\n",
       "<table border=\"1\" class=\"dataframe\">\n",
       "  <thead>\n",
       "    <tr style=\"text-align: right;\">\n",
       "      <th></th>\n",
       "      <th>S&amp;P 500 Simulated Close</th>\n",
       "    </tr>\n",
       "  </thead>\n",
       "  <tbody>\n",
       "    <tr>\n",
       "      <th>1</th>\n",
       "      <td>[3734.9387770177973]</td>\n",
       "    </tr>\n",
       "    <tr>\n",
       "      <th>2</th>\n",
       "      <td>[3615.0430253511267]</td>\n",
       "    </tr>\n",
       "    <tr>\n",
       "      <th>3</th>\n",
       "      <td>[3570.393114952266]</td>\n",
       "    </tr>\n",
       "    <tr>\n",
       "      <th>4</th>\n",
       "      <td>[3504.106621035993]</td>\n",
       "    </tr>\n",
       "    <tr>\n",
       "      <th>5</th>\n",
       "      <td>[3547.0452440834915]</td>\n",
       "    </tr>\n",
       "  </tbody>\n",
       "</table>\n",
       "</div>"
      ],
      "text/plain": [
       "  S&P 500 Simulated Close\n",
       "1    [3734.9387770177973]\n",
       "2    [3615.0430253511267]\n",
       "3     [3570.393114952266]\n",
       "4     [3504.106621035993]\n",
       "5    [3547.0452440834915]"
      ]
     },
     "execution_count": 19,
     "metadata": {},
     "output_type": "execute_result"
    }
   ],
   "source": [
    "df2.head()"
   ]
  },
  {
   "cell_type": "code",
   "execution_count": 20,
   "metadata": {},
   "outputs": [
    {
     "name": "stderr",
     "output_type": "stream",
     "text": [
      "C:\\Users\\esuba\\anaconda3\\lib\\site-packages\\ipykernel_launcher.py:1: SettingWithCopyWarning: \n",
      "A value is trying to be set on a copy of a slice from a DataFrame.\n",
      "Try using .loc[row_indexer,col_indexer] = value instead\n",
      "\n",
      "See the caveats in the documentation: http://pandas.pydata.org/pandas-docs/stable/indexing.html#indexing-view-versus-copy\n",
      "  \"\"\"Entry point for launching an IPython kernel.\n"
     ]
    }
   ],
   "source": [
    "df2['S&P 500 Simulated Close'] = df2['S&P 500 Simulated Close'].str[0]"
   ]
  },
  {
   "cell_type": "code",
   "execution_count": 21,
   "metadata": {},
   "outputs": [
    {
     "data": {
      "text/html": [
       "<div>\n",
       "<style scoped>\n",
       "    .dataframe tbody tr th:only-of-type {\n",
       "        vertical-align: middle;\n",
       "    }\n",
       "\n",
       "    .dataframe tbody tr th {\n",
       "        vertical-align: top;\n",
       "    }\n",
       "\n",
       "    .dataframe thead th {\n",
       "        text-align: right;\n",
       "    }\n",
       "</style>\n",
       "<table border=\"1\" class=\"dataframe\">\n",
       "  <thead>\n",
       "    <tr style=\"text-align: right;\">\n",
       "      <th></th>\n",
       "      <th>S&amp;P 500 Simulated Close</th>\n",
       "    </tr>\n",
       "  </thead>\n",
       "  <tbody>\n",
       "    <tr>\n",
       "      <th>1</th>\n",
       "      <td>3734.938777</td>\n",
       "    </tr>\n",
       "    <tr>\n",
       "      <th>2</th>\n",
       "      <td>3615.043025</td>\n",
       "    </tr>\n",
       "    <tr>\n",
       "      <th>3</th>\n",
       "      <td>3570.393115</td>\n",
       "    </tr>\n",
       "    <tr>\n",
       "      <th>4</th>\n",
       "      <td>3504.106621</td>\n",
       "    </tr>\n",
       "    <tr>\n",
       "      <th>5</th>\n",
       "      <td>3547.045244</td>\n",
       "    </tr>\n",
       "  </tbody>\n",
       "</table>\n",
       "</div>"
      ],
      "text/plain": [
       "   S&P 500 Simulated Close\n",
       "1              3734.938777\n",
       "2              3615.043025\n",
       "3              3570.393115\n",
       "4              3504.106621\n",
       "5              3547.045244"
      ]
     },
     "execution_count": 21,
     "metadata": {},
     "output_type": "execute_result"
    }
   ],
   "source": [
    "df2.head()"
   ]
  },
  {
   "cell_type": "code",
   "execution_count": 22,
   "metadata": {},
   "outputs": [],
   "source": [
    "monte_carlo = df1.append(df2)"
   ]
  },
  {
   "cell_type": "code",
   "execution_count": 23,
   "metadata": {},
   "outputs": [
    {
     "data": {
      "text/html": [
       "<div>\n",
       "<style scoped>\n",
       "    .dataframe tbody tr th:only-of-type {\n",
       "        vertical-align: middle;\n",
       "    }\n",
       "\n",
       "    .dataframe tbody tr th {\n",
       "        vertical-align: top;\n",
       "    }\n",
       "\n",
       "    .dataframe thead th {\n",
       "        text-align: right;\n",
       "    }\n",
       "</style>\n",
       "<table border=\"1\" class=\"dataframe\">\n",
       "  <thead>\n",
       "    <tr style=\"text-align: right;\">\n",
       "      <th></th>\n",
       "      <th>S&amp;P 500 Simulated Close</th>\n",
       "    </tr>\n",
       "  </thead>\n",
       "  <tbody>\n",
       "    <tr>\n",
       "      <th>0</th>\n",
       "      <td>3709.41</td>\n",
       "    </tr>\n",
       "    <tr>\n",
       "      <th>1</th>\n",
       "      <td>3734.94</td>\n",
       "    </tr>\n",
       "    <tr>\n",
       "      <th>2</th>\n",
       "      <td>3615.04</td>\n",
       "    </tr>\n",
       "    <tr>\n",
       "      <th>3</th>\n",
       "      <td>3570.39</td>\n",
       "    </tr>\n",
       "    <tr>\n",
       "      <th>4</th>\n",
       "      <td>3504.11</td>\n",
       "    </tr>\n",
       "  </tbody>\n",
       "</table>\n",
       "</div>"
      ],
      "text/plain": [
       "  S&P 500 Simulated Close\n",
       "0                 3709.41\n",
       "1                 3734.94\n",
       "2                 3615.04\n",
       "3                 3570.39\n",
       "4                 3504.11"
      ]
     },
     "execution_count": 23,
     "metadata": {},
     "output_type": "execute_result"
    }
   ],
   "source": [
    "monte_carlo.head()"
   ]
  },
  {
   "cell_type": "code",
   "execution_count": 24,
   "metadata": {},
   "outputs": [
    {
     "data": {
      "text/html": [
       "<div>\n",
       "<style scoped>\n",
       "    .dataframe tbody tr th:only-of-type {\n",
       "        vertical-align: middle;\n",
       "    }\n",
       "\n",
       "    .dataframe tbody tr th {\n",
       "        vertical-align: top;\n",
       "    }\n",
       "\n",
       "    .dataframe thead th {\n",
       "        text-align: right;\n",
       "    }\n",
       "</style>\n",
       "<table border=\"1\" class=\"dataframe\">\n",
       "  <thead>\n",
       "    <tr style=\"text-align: right;\">\n",
       "      <th></th>\n",
       "      <th>S&amp;P 500 Simulated Close</th>\n",
       "    </tr>\n",
       "  </thead>\n",
       "  <tbody>\n",
       "    <tr>\n",
       "      <th>248</th>\n",
       "      <td>3976.54</td>\n",
       "    </tr>\n",
       "    <tr>\n",
       "      <th>249</th>\n",
       "      <td>4118.83</td>\n",
       "    </tr>\n",
       "    <tr>\n",
       "      <th>250</th>\n",
       "      <td>4057.91</td>\n",
       "    </tr>\n",
       "    <tr>\n",
       "      <th>251</th>\n",
       "      <td>4173.54</td>\n",
       "    </tr>\n",
       "    <tr>\n",
       "      <th>252</th>\n",
       "      <td>4291.07</td>\n",
       "    </tr>\n",
       "  </tbody>\n",
       "</table>\n",
       "</div>"
      ],
      "text/plain": [
       "    S&P 500 Simulated Close\n",
       "248                 3976.54\n",
       "249                 4118.83\n",
       "250                 4057.91\n",
       "251                 4173.54\n",
       "252                 4291.07"
      ]
     },
     "execution_count": 24,
     "metadata": {},
     "output_type": "execute_result"
    }
   ],
   "source": [
    "monte_carlo.tail()"
   ]
  },
  {
   "cell_type": "code",
   "execution_count": 26,
   "metadata": {},
   "outputs": [
    {
     "data": {},
     "metadata": {},
     "output_type": "display_data"
    },
    {
     "data": {
      "application/vnd.holoviews_exec.v0+json": "",
      "text/html": [
       "<div id='1098'>\n",
       "\n",
       "\n",
       "\n",
       "\n",
       "\n",
       "  <div class=\"bk-root\" id=\"a22390a2-5593-4dd9-92c9-a49bbad00fab\" data-root-id=\"1098\"></div>\n",
       "</div>\n",
       "<script type=\"application/javascript\">(function(root) {\n",
       "  function embed_document(root) {\n",
       "  var docs_json = {\"1d503332-6a0b-4b39-baa8-e8448d331e42\":{\"roots\":{\"references\":[{\"attributes\":{\"active_drag\":\"auto\",\"active_inspect\":\"auto\",\"active_multi\":null,\"active_scroll\":\"auto\",\"active_tap\":\"auto\",\"tools\":[{\"id\":\"1102\"},{\"id\":\"1120\"},{\"id\":\"1121\"},{\"id\":\"1122\"},{\"id\":\"1123\"},{\"id\":\"1124\"}]},\"id\":\"1126\",\"type\":\"Toolbar\"},{\"attributes\":{\"margin\":[5,5,5,5],\"name\":\"HSpacer01675\",\"sizing_mode\":\"stretch_width\"},\"id\":\"1153\",\"type\":\"Spacer\"},{\"attributes\":{\"axis\":{\"id\":\"1116\"},\"dimension\":1,\"grid_line_color\":null,\"ticker\":null},\"id\":\"1119\",\"type\":\"Grid\"},{\"attributes\":{\"data\":{\"S&P 500 Simulated Close\":{\"__ndarray__\":\"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\",\"dtype\":\"float64\",\"shape\":[253]},\"S_ampersand_P_500_Simulated_Close\":{\"__ndarray__\":\"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\",\"dtype\":\"float64\",\"shape\":[253]},\"index\":[0,1,2,3,4,5,6,7,8,9,10,11,12,13,14,15,16,17,18,19,20,21,22,23,24,25,26,27,28,29,30,31,32,33,34,35,36,37,38,39,40,41,42,43,44,45,46,47,48,49,50,51,52,53,54,55,56,57,58,59,60,61,62,63,64,65,66,67,68,69,70,71,72,73,74,75,76,77,78,79,80,81,82,83,84,85,86,87,88,89,90,91,92,93,94,95,96,97,98,99,100,101,102,103,104,105,106,107,108,109,110,111,112,113,114,115,116,117,118,119,120,121,122,123,124,125,126,127,128,129,130,131,132,133,134,135,136,137,138,139,140,141,142,143,144,145,146,147,148,149,150,151,152,153,154,155,156,157,158,159,160,161,162,163,164,165,166,167,168,169,170,171,172,173,174,175,176,177,178,179,180,181,182,183,184,185,186,187,188,189,190,191,192,193,194,195,196,197,198,199,200,201,202,203,204,205,206,207,208,209,210,211,212,213,214,215,216,217,218,219,220,221,222,223,224,225,226,227,228,229,230,231,232,233,234,235,236,237,238,239,240,241,242,243,244,245,246,247,248,249,250,251,252]},\"selected\":{\"id\":\"1134\"},\"selection_policy\":{\"id\":\"1150\"}},\"id\":\"1133\",\"type\":\"ColumnDataSource\"},{\"attributes\":{\"bottom_units\":\"screen\",\"fill_alpha\":0.5,\"fill_color\":\"lightgrey\",\"left_units\":\"screen\",\"level\":\"overlay\",\"line_alpha\":1.0,\"line_color\":\"black\",\"line_dash\":[4,4],\"line_width\":2,\"render_mode\":\"css\",\"right_units\":\"screen\",\"top_units\":\"screen\"},\"id\":\"1125\",\"type\":\"BoxAnnotation\"},{\"attributes\":{\"source\":{\"id\":\"1133\"}},\"id\":\"1140\",\"type\":\"CDSView\"},{\"attributes\":{\"line_alpha\":0.1,\"line_color\":\"#1f77b3\",\"line_width\":2,\"x\":{\"field\":\"index\"},\"y\":{\"field\":\"S&P 500 Simulated Close\"}},\"id\":\"1137\",\"type\":\"Line\"},{\"attributes\":{\"align\":null,\"below\":[{\"id\":\"1112\"}],\"center\":[{\"id\":\"1115\"},{\"id\":\"1119\"}],\"left\":[{\"id\":\"1116\"}],\"margin\":null,\"min_border_bottom\":10,\"min_border_left\":10,\"min_border_right\":10,\"min_border_top\":10,\"plot_height\":300,\"plot_width\":700,\"renderers\":[{\"id\":\"1139\"}],\"sizing_mode\":\"fixed\",\"title\":{\"id\":\"1104\"},\"toolbar\":{\"id\":\"1126\"},\"x_range\":{\"id\":\"1100\"},\"x_scale\":{\"id\":\"1108\"},\"y_range\":{\"id\":\"1101\"},\"y_scale\":{\"id\":\"1110\"}},\"id\":\"1103\",\"subtype\":\"Figure\",\"type\":\"Plot\"},{\"attributes\":{},\"id\":\"1143\",\"type\":\"BasicTickFormatter\"},{\"attributes\":{\"children\":[{\"id\":\"1099\"},{\"id\":\"1103\"},{\"id\":\"1153\"}],\"margin\":[0,0,0,0],\"name\":\"Row01670\",\"tags\":[\"embedded\"]},\"id\":\"1098\",\"type\":\"Row\"},{\"attributes\":{},\"id\":\"1108\",\"type\":\"LinearScale\"},{\"attributes\":{},\"id\":\"1120\",\"type\":\"SaveTool\"},{\"attributes\":{\"data_source\":{\"id\":\"1133\"},\"glyph\":{\"id\":\"1136\"},\"hover_glyph\":null,\"muted_glyph\":{\"id\":\"1138\"},\"nonselection_glyph\":{\"id\":\"1137\"},\"selection_glyph\":null,\"view\":{\"id\":\"1140\"}},\"id\":\"1139\",\"type\":\"GlyphRenderer\"},{\"attributes\":{},\"id\":\"1122\",\"type\":\"WheelZoomTool\"},{\"attributes\":{\"text\":\"S&P 500 Simulated Close\",\"text_color\":{\"value\":\"black\"},\"text_font_size\":{\"value\":\"12pt\"}},\"id\":\"1104\",\"type\":\"Title\"},{\"attributes\":{},\"id\":\"1121\",\"type\":\"PanTool\"},{\"attributes\":{\"margin\":[5,5,5,5],\"name\":\"HSpacer01674\",\"sizing_mode\":\"stretch_width\"},\"id\":\"1099\",\"type\":\"Spacer\"},{\"attributes\":{},\"id\":\"1141\",\"type\":\"BasicTickFormatter\"},{\"attributes\":{\"overlay\":{\"id\":\"1125\"}},\"id\":\"1123\",\"type\":\"BoxZoomTool\"},{\"attributes\":{},\"id\":\"1110\",\"type\":\"LinearScale\"},{\"attributes\":{\"line_alpha\":0.2,\"line_color\":\"#1f77b3\",\"line_width\":2,\"x\":{\"field\":\"index\"},\"y\":{\"field\":\"S&P 500 Simulated Close\"}},\"id\":\"1138\",\"type\":\"Line\"},{\"attributes\":{\"line_color\":\"#1f77b3\",\"line_width\":2,\"x\":{\"field\":\"index\"},\"y\":{\"field\":\"S&P 500 Simulated Close\"}},\"id\":\"1136\",\"type\":\"Line\"},{\"attributes\":{},\"id\":\"1124\",\"type\":\"ResetTool\"},{\"attributes\":{},\"id\":\"1134\",\"type\":\"Selection\"},{\"attributes\":{\"axis_label\":\"\",\"bounds\":\"auto\",\"formatter\":{\"id\":\"1143\"},\"major_label_orientation\":\"horizontal\",\"ticker\":{\"id\":\"1117\"}},\"id\":\"1116\",\"type\":\"LinearAxis\"},{\"attributes\":{\"axis\":{\"id\":\"1112\"},\"grid_line_color\":null,\"ticker\":null},\"id\":\"1115\",\"type\":\"Grid\"},{\"attributes\":{\"axis_label\":\"\",\"bounds\":\"auto\",\"formatter\":{\"id\":\"1141\"},\"major_label_orientation\":\"horizontal\",\"ticker\":{\"id\":\"1113\"}},\"id\":\"1112\",\"type\":\"LinearAxis\"},{\"attributes\":{\"end\":252.0,\"reset_end\":252.0,\"reset_start\":0.0,\"tags\":[[[\"index\",\"index\",null]]]},\"id\":\"1100\",\"type\":\"Range1d\"},{\"attributes\":{\"callback\":null,\"renderers\":[{\"id\":\"1139\"}],\"tags\":[\"hv_created\"],\"tooltips\":[[\"index\",\"@{index}\"],[\"S&P 500 Simulated Close\",\"@{S_ampersand_P_500_Simulated_Close}\"]]},\"id\":\"1102\",\"type\":\"HoverTool\"},{\"attributes\":{},\"id\":\"1150\",\"type\":\"UnionRenderers\"},{\"attributes\":{\"end\":5031.370290592965,\"reset_end\":5031.370290592965,\"reset_start\":2744.924668548794,\"start\":2744.924668548794,\"tags\":[[[\"S&P 500 Simulated Close\",\"S&P 500 Simulated Close\",null]]]},\"id\":\"1101\",\"type\":\"Range1d\"},{\"attributes\":{},\"id\":\"1113\",\"type\":\"BasicTicker\"},{\"attributes\":{},\"id\":\"1117\",\"type\":\"BasicTicker\"}],\"root_ids\":[\"1098\"]},\"title\":\"Bokeh Application\",\"version\":\"2.0.2\"}};\n",
       "  var render_items = [{\"docid\":\"1d503332-6a0b-4b39-baa8-e8448d331e42\",\"root_ids\":[\"1098\"],\"roots\":{\"1098\":\"a22390a2-5593-4dd9-92c9-a49bbad00fab\"}}];\n",
       "  root.Bokeh.embed.embed_items_notebook(docs_json, render_items);\n",
       "  }\n",
       "if (root.Bokeh !== undefined) {\n",
       "    embed_document(root);\n",
       "  } else {\n",
       "    var attempts = 0;\n",
       "    var timer = setInterval(function(root) {\n",
       "      if (root.Bokeh !== undefined) {\n",
       "        clearInterval(timer);\n",
       "        embed_document(root);\n",
       "      } else if (document.readyState == \"complete\") {\n",
       "        attempts++;\n",
       "        if (attempts > 100) {\n",
       "          clearInterval(timer);\n",
       "          console.log(\"Bokeh: ERROR: Unable to run BokehJS code because BokehJS library is missing\");\n",
       "        }\n",
       "      }\n",
       "    }, 10, root)\n",
       "  }\n",
       "})(window);</script>"
      ],
      "text/plain": [
       ":Curve   [index]   (S&P 500 Simulated Close)"
      ]
     },
     "execution_count": 26,
     "metadata": {
      "application/vnd.holoviews_exec.v0+json": {
       "id": "1098"
      }
     },
     "output_type": "execute_result"
    }
   ],
   "source": [
    "import hvplot.pandas\n",
    "monte_carlo['S&P 500 Simulated Close'].hvplot.line()"
   ]
  },
  {
   "cell_type": "code",
   "execution_count": null,
   "metadata": {},
   "outputs": [],
   "source": []
  }
 ],
 "metadata": {
  "kernelspec": {
   "display_name": "Python 3",
   "language": "python",
   "name": "python3"
  },
  "language_info": {
   "codemirror_mode": {
    "name": "ipython",
    "version": 3
   },
   "file_extension": ".py",
   "mimetype": "text/x-python",
   "name": "python",
   "nbconvert_exporter": "python",
   "pygments_lexer": "ipython3",
   "version": "3.7.7"
  }
 },
 "nbformat": 4,
 "nbformat_minor": 4
}
